{
  "nbformat": 4,
  "nbformat_minor": 0,
  "metadata": {
    "colab": {
      "provenance": [],
      "collapsed_sections": [],
      "include_colab_link": true
    },
    "kernelspec": {
      "name": "python3",
      "display_name": "Python 3"
    },
    "language_info": {
      "name": "python"
    }
  },
  "cells": [
    {
      "cell_type": "markdown",
      "metadata": {
        "id": "view-in-github",
        "colab_type": "text"
      },
      "source": [
        "<a href=\"https://colab.research.google.com/github/nurulqa/Case-Study-03-Kelompok-H/blob/main/Study_Case_3_Kelompok_H.ipynb\" target=\"_parent\"><img src=\"https://colab.research.google.com/assets/colab-badge.svg\" alt=\"Open In Colab\"/></a>"
      ]
    },
    {
      "cell_type": "markdown",
      "source": [
        "<center><h1><strong><font color=\"green\">Study Case 03 - Kelompok H</font></strong></h1></center>\n",
        "\n",
        "<img alt=\"\" src=\"images/covers/cover_ui-n-taudata.jpg\"/>\n",
        "\n",
        "1. Aisyah Ghefira (2006572945)\n",
        "2. Andini Assyahidah (2006571040)\n",
        "3. Dewita Oktavia Nuur Marwan (2006531195)\n",
        "4. Kezia Emmanuela (2006572964)\n",
        "5. Maria Angelica Christabel (2006483593)\n",
        "6. Nafisya Alya Aurelitha (2006571122)\n",
        "7. Nurul Qomariah Abdillah (2006463811)"
      ],
      "metadata": {
        "id": "QU-KuYjAgEef"
      }
    },
    {
      "cell_type": "markdown",
      "source": [
        "# PreProcessing Data"
      ],
      "metadata": {
        "id": "xlpZSGr-nz_g"
      }
    },
    {
      "cell_type": "code",
      "execution_count": null,
      "metadata": {
        "id": "uHwsih7NJg4O",
        "colab": {
          "base_uri": "https://localhost:8080/"
        },
        "outputId": "2bc4f189-bf75-4f61-f07c-8775687033ba"
      },
      "outputs": [
        {
          "output_type": "stream",
          "name": "stdout",
          "text": [
            "Running the code in Google Colab. <module 'google.colab' from '/usr/local/lib/python3.7/dist-packages/google/colab/__init__.py'>\n",
            "Installing required Module, please wait ... \n",
            "Looking in indexes: https://pypi.org/simple, https://us-python.pkg.dev/colab-wheels/public/simple/\n",
            "Requirement already satisfied: mlxtend in /usr/local/lib/python3.7/dist-packages (0.14.0)\n",
            "Requirement already satisfied: setuptools in /usr/local/lib/python3.7/dist-packages (from mlxtend) (57.4.0)\n",
            "Requirement already satisfied: numpy>=1.10.4 in /usr/local/lib/python3.7/dist-packages (from mlxtend) (1.21.6)\n",
            "Requirement already satisfied: pandas>=0.17.1 in /usr/local/lib/python3.7/dist-packages (from mlxtend) (1.3.5)\n",
            "Requirement already satisfied: scikit-learn>=0.18 in /usr/local/lib/python3.7/dist-packages (from mlxtend) (1.0.2)\n",
            "Requirement already satisfied: scipy>=0.17 in /usr/local/lib/python3.7/dist-packages (from mlxtend) (1.7.3)\n",
            "Requirement already satisfied: matplotlib>=1.5.1 in /usr/local/lib/python3.7/dist-packages (from mlxtend) (3.2.2)\n",
            "Requirement already satisfied: pyparsing!=2.0.4,!=2.1.2,!=2.1.6,>=2.0.1 in /usr/local/lib/python3.7/dist-packages (from matplotlib>=1.5.1->mlxtend) (3.0.9)\n",
            "Requirement already satisfied: python-dateutil>=2.1 in /usr/local/lib/python3.7/dist-packages (from matplotlib>=1.5.1->mlxtend) (2.8.2)\n",
            "Requirement already satisfied: cycler>=0.10 in /usr/local/lib/python3.7/dist-packages (from matplotlib>=1.5.1->mlxtend) (0.11.0)\n",
            "Requirement already satisfied: kiwisolver>=1.0.1 in /usr/local/lib/python3.7/dist-packages (from matplotlib>=1.5.1->mlxtend) (1.4.4)\n",
            "Requirement already satisfied: typing-extensions in /usr/local/lib/python3.7/dist-packages (from kiwisolver>=1.0.1->matplotlib>=1.5.1->mlxtend) (4.1.1)\n",
            "Requirement already satisfied: pytz>=2017.3 in /usr/local/lib/python3.7/dist-packages (from pandas>=0.17.1->mlxtend) (2022.4)\n",
            "Requirement already satisfied: six>=1.5 in /usr/local/lib/python3.7/dist-packages (from python-dateutil>=2.1->matplotlib>=1.5.1->mlxtend) (1.15.0)\n",
            "Requirement already satisfied: threadpoolctl>=2.0.0 in /usr/local/lib/python3.7/dist-packages (from scikit-learn>=0.18->mlxtend) (3.1.0)\n",
            "Requirement already satisfied: joblib>=0.11 in /usr/local/lib/python3.7/dist-packages (from scikit-learn>=0.18->mlxtend) (1.2.0)\n",
            "Looking in indexes: https://pypi.org/simple, https://us-python.pkg.dev/colab-wheels/public/simple/\n"
          ]
        }
      ],
      "source": [
        "# Warning install \"mlxtend\" module first. Jalankan cell ini Hanya jika menggunakan Google Colaboratory:\n",
        "# Jika menggunakan Jupyter notebook secara lokal (e.g. Anaconda/WinPython) silahkan install lewat terminal (e.g. command prompt)\n",
        "try:\n",
        "    import google.colab as gc_\n",
        "    print(\"Running the code in Google Colab.\", gc_) #IN_COLAB = True\n",
        "    print(\"Installing required Module, please wait ... \")\n",
        "    !pip install mlxtend \n",
        "    !pip install pycaret\n",
        "except:\n",
        "    print(\"Running the code locally, make sure to install required modules.\")#IN_COLAB = False"
      ]
    },
    {
      "cell_type": "code",
      "source": [
        "import warnings; warnings.simplefilter('ignore')\n",
        "import pandas as pd, matplotlib.pyplot as plt, seaborn as sns\n",
        "from itertools import combinations\n",
        "from collections import Counter\n",
        "from mlxtend.frequent_patterns import apriori\n",
        "from mlxtend.frequent_patterns import association_rules\n",
        "from pycaret.arules import *\n",
        "\n",
        "%matplotlib inline\n",
        "plt.style.use('bmh'); sns.set()"
      ],
      "metadata": {
        "id": "u1LGRFYjKt_j"
      },
      "execution_count": null,
      "outputs": []
    },
    {
      "cell_type": "code",
      "source": [
        "import pandas as pd\n",
        "import seaborn as sns"
      ],
      "metadata": {
        "id": "r1qC_nXFNIiy"
      },
      "execution_count": null,
      "outputs": []
    },
    {
      "cell_type": "code",
      "source": [
        "#IMPORT DATA\n",
        "df =  pd.read_csv (\"https://raw.githubusercontent.com/nurulqa/Case-Study-03-Kelompok-H/main/cae_Kasus-AR-MBA-Ganjil-2022.csv\")\n",
        "df"
      ],
      "metadata": {
        "id": "VW1wR8ppNJHM"
      },
      "execution_count": null,
      "outputs": []
    },
    {
      "cell_type": "code",
      "source": [
        "#FILL NA\n",
        "df['Konsumen'].fillna(method = 'ffill', inplace = True)\n",
        "df['Tanggal'].fillna(method = 'ffill', inplace=True)\n",
        "df['ID Transaksi'].fillna(method = 'ffill', inplace=True)\n",
        "df['Tanggal'] = pd.to_datetime(df['Tanggal'])\n",
        "df"
      ],
      "metadata": {
        "id": "-YO18lWZPeOS"
      },
      "execution_count": null,
      "outputs": []
    },
    {
      "cell_type": "code",
      "source": [
        "# cek missing values\n",
        "df.info()"
      ],
      "metadata": {
        "id": "64ULBRLfX9dR"
      },
      "execution_count": null,
      "outputs": []
    },
    {
      "cell_type": "markdown",
      "source": [
        "# **DATA WRANGLING dan EDA**"
      ],
      "metadata": {
        "id": "eceJjHiTXTLE"
      }
    },
    {
      "cell_type": "code",
      "source": [
        "# Filter top scoring\n",
        "df_top = df[df['Jumlah'] >= max(df['Jumlah'])]\n",
        "df_top"
      ],
      "metadata": {
        "id": "sTnDPgN7RX9e"
      },
      "execution_count": null,
      "outputs": []
    },
    {
      "cell_type": "markdown",
      "source": [
        "Dapat dilihat, dalam sekali transaksi, produk yang terbanyak dibeli yaitu Snack Citata dan Mie Instan Indomi dengan masing- masing 3 item terjual dibeli oleh Mr.B."
      ],
      "metadata": {
        "id": "Tz4bmbG8c4nK"
      }
    },
    {
      "cell_type": "code",
      "source": [
        "df['Jumlah'].groupby([df['Nama Produk']]).sum()"
      ],
      "metadata": {
        "id": "P35wqUPhcY2I"
      },
      "execution_count": null,
      "outputs": []
    },
    {
      "cell_type": "code",
      "source": [
        "#Frekuensi pembelian produk\n",
        "import seaborn as sns\n",
        "import matplotlib.pyplot as plt\n",
        "p = sns.countplot(x=\"Nama Produk\", data=df)"
      ],
      "metadata": {
        "id": "SI0XensbYLFu"
      },
      "execution_count": null,
      "outputs": []
    },
    {
      "cell_type": "markdown",
      "source": [
        "Dapat dilihat total produk yang paling banyak terjual yaitu Air Minum dengan total 16 item, sedangkan yang paling sedikit terjual yaitu Rokok dengan 5 item terjual."
      ],
      "metadata": {
        "id": "5YDQ-T7dcuH-"
      }
    },
    {
      "cell_type": "code",
      "source": [
        "df.groupby(['Nama Produk', 'Merek'])[['Jumlah']].sum()"
      ],
      "metadata": {
        "id": "7yrJXPuSXj4s"
      },
      "execution_count": null,
      "outputs": []
    },
    {
      "cell_type": "markdown",
      "source": [
        "Dari hasil diatas, dapat diketahui produk yang paling banyak terjual yaitu Roti Sri Roti dan Snack Chiki dengan masing- masing 11 item terjual. Produk yang paling sedikit terjual yaitu Roti Prambanan dan Sabun Luks dengan masing- masing 4 item terjual."
      ],
      "metadata": {
        "id": "EuPMuPNNb7Tv"
      }
    },
    {
      "cell_type": "code",
      "source": [
        "pd.crosstab(df.Konsumen, df.Merek)"
      ],
      "metadata": {
        "id": "45Vz3oOaTOvJ"
      },
      "execution_count": null,
      "outputs": []
    },
    {
      "cell_type": "code",
      "source": [
        "df.groupby(['Konsumen', 'ID Produk'])[['Jumlah']].sum()"
      ],
      "metadata": {
        "id": "K9jXVmtwVVq6"
      },
      "execution_count": null,
      "outputs": []
    },
    {
      "cell_type": "code",
      "source": [
        "plt.figure(figsize=(8,6))\n",
        "p = sns.countplot(x=\"Konsumen\",data=df)\n",
        "#plt.plot(x, y)"
      ],
      "metadata": {
        "id": "WgE0QvK4Yrr9"
      },
      "execution_count": null,
      "outputs": []
    },
    {
      "cell_type": "markdown",
      "source": [
        "Dari hasil diatas, dapat dilihat bahwa pembelian terbanyak dilakukan oleh Mr.B dengan total pembelian 8 produk dan pembelian sedikit dilakukan oleh Mr.D, Mr.P, dan Mr.J dengan masing- masing pembelian 1 produk."
      ],
      "metadata": {
        "id": "5Upzc2hWels5"
      }
    },
    {
      "cell_type": "markdown",
      "source": [
        "# **MARKET BASKET ANALYSIS**"
      ],
      "metadata": {
        "id": "3NUDQo9tXXmE"
      }
    },
    {
      "cell_type": "code",
      "source": [
        "#Mengganti tipe data\n",
        "import datetime\n",
        "df['Tanggal'] = pd.to_datetime(df['Tanggal'])\n",
        "df['Konsumen'] = df['Konsumen'].astype('category')\n",
        "df['Konsumen'] = df['Konsumen'].astype('category')\n",
        "df['Nama Produk'] = df['Nama Produk'].astype('category')\n",
        "df['Merek'] = df['Merek'].astype('category')"
      ],
      "metadata": {
        "id": "Q69IFQfkjw5G"
      },
      "execution_count": null,
      "outputs": []
    },
    {
      "cell_type": "code",
      "source": [
        "#Cek Missing Value\n",
        "df.isnull().sum().sort_values(ascending=False) "
      ],
      "metadata": {
        "id": "EzCo2fxLXcv7"
      },
      "execution_count": null,
      "outputs": []
    },
    {
      "cell_type": "markdown",
      "source": [
        "VISUALISASI DATA"
      ],
      "metadata": {
        "id": "jcnr8L1grD3k"
      }
    },
    {
      "cell_type": "code",
      "source": [
        "import numpy as np\n",
        "\n",
        "#TOP 10 PRODUK TERJUAL\n",
        "\n",
        "#Membuat Distribusi dari Item Terjual\n",
        "Item_distr = df.groupby(by = \"Nama Produk\").size().reset_index(name='Jumlah').sort_values(by = 'Jumlah',ascending=False).head(10)\n",
        "\n",
        "#Mendeklarasikan Variabel\n",
        "bars = Item_distr[\"Nama Produk\"]\n",
        "height = Item_distr[\"Jumlah\"]\n",
        "x_pos = np.arange(len(bars))\n",
        "\n",
        "#Ukuran Grafik\n",
        "\n",
        "plt.figure(figsize=(16,9))\n",
        "\n",
        "# Membuat Visualisasi\n",
        "plt.bar(x_pos, height, color=(0.3, 0.4, 0.6, 0.6))\n",
        "\n",
        "# Memberi judul dan label grafik\n",
        "plt.title(\"Top 10 Sold Items\")\n",
        "plt.xlabel(\"Nama Produk\")\n",
        "plt.ylabel(\"Jumlah Produk Terjual\")\n",
        "\n",
        "# Membuat nama pada sumbu x\n",
        "plt.xticks(x_pos, bars)\n",
        "\n",
        "# Memunculkan grafik\n",
        "plt.show()"
      ],
      "metadata": {
        "id": "O5GDuqMnj0SV"
      },
      "execution_count": null,
      "outputs": []
    },
    {
      "cell_type": "markdown",
      "source": [
        "Dari grafik di atas, dapat dilihat bahwa produk paling banyak terjual adalah air minum dan produk paling sedikit terjual adalah rokok."
      ],
      "metadata": {
        "id": "LHzgstoUpd25"
      }
    },
    {
      "cell_type": "code",
      "source": [
        "#VISUALISASI JUMLAH PRODUK TERJUAL SETIAP BULAN\n",
        "#Set data sebagai index untuk visualisasi data\n",
        "\n",
        "df_date=df.set_index(['Tanggal']) ## Setting date as index for plotting purpose\n",
        "df_date"
      ],
      "metadata": {
        "id": "_wL-KRNnj-hB"
      },
      "execution_count": null,
      "outputs": []
    },
    {
      "cell_type": "code",
      "source": [
        "#VISUALISASI JUMLAH PRODUK TERJUAL SETIAP BULAN\n",
        "\n",
        "df_date.resample(\"M\")['Nama Produk'].count().plot(figsize = (20,8), grid = True, title = \"Jumlah Produk Terjual Setiap Bulan\").set(xlabel = \"Tanggal\", ylabel = \"Jumlah Produk Terjual\")"
      ],
      "metadata": {
        "id": "eVxm4KFbkCQf"
      },
      "execution_count": null,
      "outputs": []
    },
    {
      "cell_type": "markdown",
      "source": [
        "Dapat dilihat bahwa jumlah produk yang terjual menurun drastis dari Juli 2022 hingga Agustus 2020, lalu meningkat sedikit pada September 2022, dan menurun kembali pada Oktober 2022."
      ],
      "metadata": {
        "id": "Js3FYgXWpu6c"
      }
    },
    {
      "cell_type": "code",
      "source": [
        "#GRAFIK PEMBELIAN BERDASARKAN WAKTU\n",
        "\n",
        "plt.figure(figsize=(10,5))\n",
        "df.groupby('Tanggal')['ID Transaksi'].count().plot()"
      ],
      "metadata": {
        "id": "rj2puibIkCmL"
      },
      "execution_count": null,
      "outputs": []
    },
    {
      "cell_type": "markdown",
      "source": [
        "Untuk lebih detailnya, dapat dilihat pembelian menurun drastis hingga selang waktu 1 Juli 2022 - 15 Juli 2022, lalu konstan hingga 1 Agustus 2022, lalu naik hingga selang waktu 1 September 2022 - 15 September 2022, dan menurun kembali hingga 1 Oktober 2022."
      ],
      "metadata": {
        "id": "N_hoq4G9pyya"
      }
    },
    {
      "cell_type": "code",
      "source": [
        "#TOP 10 MEREK TERJUAL\n",
        "\n",
        "# Membuat distribusi dari merek terjual\n",
        "Item_distr1 = df.groupby(by = \"Merek\").size().reset_index(name='Jumlah').sort_values(by = 'Jumlah',ascending=False).head(10)\n",
        "\n",
        "# Mendeklarasikan variabel\n",
        "bars = Item_distr1[\"Merek\"]\n",
        "height = Item_distr1[\"Jumlah\"]\n",
        "x_pos = np.arange(len(bars))\n",
        "\n",
        "# Ukuran Grafik\n",
        "plt.figure(figsize=(16,9))\n",
        "\n",
        "# Membuat Bar\n",
        "plt.bar(x_pos, height, color=(0.3, 0.4, 0.6, 0.6))\n",
        "\n",
        "# Menambahkan label\n",
        "plt.title(\"Top 10 Merek Terjual\")\n",
        "plt.xlabel(\"Merek Produk\")\n",
        "plt.ylabel(\"Jumlah Merek Terjual\")\n",
        "\n",
        "# Membuat nama pada sumbu x\n",
        "plt.xticks(x_pos, bars)\n",
        "\n",
        "# Memunculkan grafik\n",
        "plt.show()"
      ],
      "metadata": {
        "id": "I04QSrFVkNZE"
      },
      "execution_count": null,
      "outputs": []
    },
    {
      "cell_type": "markdown",
      "source": [
        "Dapat dilihat bahwa merek paling banyak terjual adalah Chiki dan produk paling sedikit terjual adalah Mie Sedap."
      ],
      "metadata": {
        "id": "q5O0dTWdp52j"
      }
    },
    {
      "cell_type": "code",
      "source": [
        "#TOP 10 KONSUMEN DENGAN PEMBELIAN TERENDAH\n",
        "\n",
        "#Membuat distribusi konsumen terhadap jumlah pembelian produk\n",
        "Item_distr2 = df.groupby(by = \"Konsumen\").size().reset_index(name='Jumlah').sort_values(by = 'Jumlah',ascending=True).head(10)\n",
        "\n",
        "#Mendeklarasikan Variabel\n",
        "bars = Item_distr2[\"Konsumen\"]\n",
        "height = Item_distr2[\"Jumlah\"]\n",
        "x_pos = np.arange(len(bars))\n",
        "\n",
        "#Ukuran Grafik\n",
        "plt.figure(figsize=(16,9))\n",
        "\n",
        "#Membuat Grafik\n",
        "plt.bar(x_pos, height, color=(0.3, 0.4, 0.6, 0.6))\n",
        "\n",
        "#Menambahkan label Grafik\n",
        "plt.title(\"Top 10 Konsumen dengan Pembelian terendah\")\n",
        "plt.xlabel(\"Konsumen\")\n",
        "plt.ylabel(\"Jumlah Pembelian\")\n",
        "\n",
        "#Membuat nama pada sumbu x\n",
        "plt.xticks(x_pos, bars)\n",
        "\n",
        "#Memunculkan Grafik\n",
        "plt.show()"
      ],
      "metadata": {
        "id": "EhZ72139sOM2"
      },
      "execution_count": null,
      "outputs": []
    },
    {
      "cell_type": "markdown",
      "source": [
        "Dari grafik terlihat konsumen dengan jumlah pembelian paling tinggi dan rendah di Alfaindo cabang UI Depok bahwa Mr. A yang memiliki frekuensi belanja paling banyak dan Mr.F dan Mr. J yang memiliki frekuensi belanja paling sedikit."
      ],
      "metadata": {
        "id": "Eepf_0vPp-hu"
      }
    },
    {
      "cell_type": "code",
      "source": [
        "basket = (df.groupby(['ID Transaksi', 'Nama Produk'])['Jumlah'].count()\\\n",
        "                                      .unstack().reset_index().fillna(0)\\\n",
        "                                      .set_index('ID Transaksi'))\n",
        "basket.head()"
      ],
      "metadata": {
        "id": "A_r2NKNikXva"
      },
      "execution_count": null,
      "outputs": []
    },
    {
      "cell_type": "code",
      "source": [
        "def encode_units(x):\n",
        "    if x <= 0:\n",
        "        return 0\n",
        "    if x >= 1:\n",
        "        return 1\n",
        "\n",
        "basket_sets = basket.applymap(encode_units)\n",
        "basket_sets.head(5)"
      ],
      "metadata": {
        "id": "ufb9m2Uqkcd-"
      },
      "execution_count": null,
      "outputs": []
    },
    {
      "cell_type": "code",
      "source": [
        "basket_sets.columns"
      ],
      "metadata": {
        "id": "lWPisM4Ekf2h"
      },
      "execution_count": null,
      "outputs": []
    },
    {
      "cell_type": "code",
      "source": [
        "basket_sets.index"
      ],
      "metadata": {
        "id": "SQuyXd7IkhI6"
      },
      "execution_count": null,
      "outputs": []
    },
    {
      "cell_type": "code",
      "source": [
        "from mlxtend.frequent_patterns import apriori\n",
        "from mlxtend.frequent_patterns import association_rules\n",
        "frequent_itemsets1 = apriori(basket_sets, min_support=0.07, use_colnames=True)\n",
        "frequent_itemsets1.sort_values(by='support', ascending=False, na_position='last', inplace = True)\n",
        "frequent_itemsets1"
      ],
      "metadata": {
        "id": "k1Jprx2gkiup"
      },
      "execution_count": null,
      "outputs": []
    },
    {
      "cell_type": "code",
      "source": [
        "rules = association_rules(frequent_itemsets1, metric=\"lift\", min_threshold=1)\n",
        "rules.sort_values(by='lift', ascending=False, na_position='last', inplace = True)\n",
        "rules.head()"
      ],
      "metadata": {
        "id": "1Oz4MPmsklfH"
      },
      "execution_count": null,
      "outputs": []
    },
    {
      "cell_type": "code",
      "source": [
        "rules1 = association_rules(frequent_itemsets1, metric=\"lift\", min_threshold=1)\n",
        "rules1.head()"
      ],
      "metadata": {
        "id": "Z2XqvO15ksQC"
      },
      "execution_count": null,
      "outputs": []
    },
    {
      "cell_type": "code",
      "source": [
        "# Filtering\n",
        "rules[ (rules['lift'] >= 6) & (rules['confidence'] >= 0.8)]"
      ],
      "metadata": {
        "id": "_Iyh9Ndhm0Co"
      },
      "execution_count": null,
      "outputs": []
    },
    {
      "cell_type": "markdown",
      "source": [
        "Dapat dilihat bahwa kecendrungan yang paling sering terjadi adalah:\n",
        "1. Bila seseorang membeli Mie Instan, Roti, dan Snack maka mereka akan cenderung membeli Sabun dan Air Minum\n",
        "2. Bila seseorang membeli Air Minum, Mie Instan, dan Snack maka mereka akan cenderung membeli Sabun dan Roti"
      ],
      "metadata": {
        "id": "1hyAbCq7qbCl"
      }
    },
    {
      "cell_type": "code",
      "source": [
        "basket1 = (df.groupby(['ID Transaksi', 'Merek'])['Jumlah'].count()\\\n",
        "                                      .unstack().reset_index().fillna(0)\\\n",
        "                                      .set_index('ID Transaksi'))\n",
        "basket1.head()"
      ],
      "metadata": {
        "id": "YCisUVjSm2St"
      },
      "execution_count": null,
      "outputs": []
    },
    {
      "cell_type": "code",
      "source": [
        "frequent_itemsets1 = apriori(basket1, min_support=0.1, use_colnames=True)\n",
        "frequent_itemsets1"
      ],
      "metadata": {
        "id": "D8jppk2Tm7s7"
      },
      "execution_count": null,
      "outputs": []
    },
    {
      "cell_type": "code",
      "source": [
        "rules2 = association_rules(frequent_itemsets1, metric=\"lift\", min_threshold=1)"
      ],
      "metadata": {
        "id": "loGycj_tm9lC"
      },
      "execution_count": null,
      "outputs": []
    },
    {
      "cell_type": "code",
      "source": [
        "result2 = rules2[(rules1['lift'] >= 1) & \n",
        "               (rules1['confidence'] >= 0.8)]\n",
        "\n",
        "apr_result1 = result2.sort_values(by='confidence', ascending=False)\n",
        "apr_result1.head(20)"
      ],
      "metadata": {
        "id": "ja4QCjBRnBFC"
      },
      "execution_count": null,
      "outputs": []
    },
    {
      "cell_type": "markdown",
      "source": [
        "1. Kolom Antecedent Support menyatakan probabilitas konsumen hanya membeli produk antecedents saja. Misal, probabilitas konsumen hanya membeli Roti adalah 50%.\n",
        "2. Kolom Consequent Support menyatakan probabilitas konsumen hanya membeli produk consequents saja. Misal, probabilitas konsumen hanya membeli Air Minum adalah 61,11%.\n",
        "3. Kolom Support menyatakan probabilitas konsumen membeli produk antecedents dan consequents. Misal, probabilitas konsumen membeli Roti dan Air Minum adalah 44,44%\n",
        "4. Kolom Confidence menyatakan ukuran seberapa sering aturan (1), (2), dan (3) terbukti benar.\n",
        "5. Kolom Lift menyatakan ukuran seberapa sering produk antecedents dan consequents dibeli secara bersamaan dibandingkan jika dibeli secara tidak bersmaaan."
      ],
      "metadata": {
        "id": "kSlRYB1dqmNH"
      }
    },
    {
      "cell_type": "code",
      "source": [
        "apr_result1['consequents'].value_counts()"
      ],
      "metadata": {
        "id": "pHKrr7kMnW2H"
      },
      "execution_count": null,
      "outputs": []
    },
    {
      "cell_type": "markdown",
      "source": [
        "Data di atas merupakan data merek produk dimana konsumen akan membeli merek produk tersebut apabila ia membeli merek produk tertentu. Dapat dilihat bahwa merek produk yang paling banyak dibeli adalah Aquos dan merek produk yang paling sedikit dibeli adalah Sri Roti, Sri Roti dan Sprit, Luks, Clean, Indomi dan Sri Roti, Sri Roti dan Lifboy, Malioboro, dan Mi Sedap."
      ],
      "metadata": {
        "id": "DojpCTzWtAwj"
      }
    },
    {
      "cell_type": "markdown",
      "source": [
        "# **Rekomendasi dan Kesimpulan**\n",
        "Rekomendasi dan kesimpulan:\n",
        "-\tDisarankan kepada data engineering untuk lain kali tidak menyimpan data di excel melainkan menyimpannya di csv. Hal ini dikarenakan mempermudah pengerjaan data analyst dalam memproses data serta untuk mengantisipasi scale up business. Hal ini penting dikarenakan excel memiliki kelemahan fatal yaitu memiliki jumlah baris yang terbatas sehingga jika tetap menggunakan excel saat member loyalty programnya semakin banyak maka terdapat kemungkinan beberapa data pelanggan tersebut dapat terhapus.\n",
        "-\tDirekomendasikan kepada perusahaan untuk menambah stok dan variasi produk yang terjual lebih banyak yaitu Air minum dan roti agar penjualan terus meningkat dikemudian hari. \n",
        "-\tDirekomendasikan kepada perusahaan untuk menjual rokok dengan merek yang lain agar lebih menarik pembeli dikarenakan rokok merupakan produk yang paling sedikit terjual.\n",
        "-\tDirekomendasikan kepada perusahaan untuk memberikan promo pada produk rokok agar penjualan produk rokok meningkat dikarenakan penjualan produk rokok lebih sedikit dibandingkan dengan produk lain.\n",
        "-\tDirekomendasikan kepada perusahaan untuk memberikan reward kepada pelanggan yang paling banyak membeli produk agar pelanggan tersebut dan pelanggan lainnya termotivasi untuk membeli produk lebih banyak sehingga bisa mendapatkan reward yang diberikan oleh perusahaan.\n",
        "-\tDirekomendasikan kepada perusahaan untuk memvariasikan produk yang dijual agar pembeli memiliki banyak pilihan dalam membeli produk di perusahaan tersebut.\n"
      ],
      "metadata": {
        "id": "IjWCa2TZtZqH"
      }
    }
  ]
}